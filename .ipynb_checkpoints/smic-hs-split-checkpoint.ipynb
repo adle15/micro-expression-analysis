{
  "cells": [
    {
      "cell_type": "code",
      "execution_count": null,
      "source": [
        "import numpy as np \r\n",
        "import matplotlib.pyplot as plt\r\n",
        "import glob\r\n",
        "import cv2\r\n",
        "\r\n",
        "from keras.models import Model, Sequential\r\n",
        "from keras.layers import Dense, Flatten, Conv2D, MaxPooling2D, MaxPool2D\r\n",
        "from keras.layers.normalization import BatchNormalization\r\n",
        "import os\r\n",
        "import seaborn as sns"
      ],
      "outputs": [],
      "metadata": {
        "id": "xqvmQTvhNuMQ"
      }
    },
    {
      "cell_type": "code",
      "execution_count": null,
      "source": [
        "#tes1 = ['p','q','r','p']\r\n",
        "#tes2 = [3,4,5,6]\r\n",
        "#labels = np.array(tes1)\r\n",
        "#images = np.array(tes2)\r\n",
        "##print(images)\r\n",
        "#tes = np.random.permutation(len(tes1))\r\n",
        "#x = labels[tes]\r\n",
        "#y = images[tes]\r\n",
        "#tes"
      ],
      "outputs": [],
      "metadata": {}
    },
    {
      "cell_type": "markdown",
      "source": [
        "Untuk selebihnya mengenai dataset secara struktur file, dll. Bisa dilihat disini :\n",
        "\n",
        "https://drive.google.com/drive/folders/1OLw5xkjv2jBOK1kbtMepFhiIUfdlSkDe?usp=sharing\n"
      ],
      "metadata": {
        "id": "aukz1MjHjMQq"
      }
    },
    {
      "cell_type": "code",
      "execution_count": null,
      "source": [
        "#Mount Drive untuk Load Dataset\r\n",
        "#from google.colab import drive\r\n",
        "#drive.mount('/content/drive')"
      ],
      "outputs": [],
      "metadata": {
        "colab": {
          "base_uri": "https://localhost:8080/"
        },
        "id": "o5pYUkstcpiA",
        "outputId": "7d3a16af-1a41-4ccd-bce6-6d9c4ddafc8a"
      }
    },
    {
      "cell_type": "code",
      "execution_count": null,
      "source": [
        "#Cek folder sudah benar setelah di mount\r\n",
        "print(os.listdir(\"smic-hs/train-test-split\"))\r\n",
        "SIZE = 128"
      ],
      "outputs": [],
      "metadata": {
        "colab": {
          "base_uri": "https://localhost:8080/"
        },
        "id": "R9wtKJ8WN6fX",
        "outputId": "4f8007d6-8192-4c94-dc9d-83e0ad14658a"
      }
    },
    {
      "cell_type": "code",
      "execution_count": null,
      "source": [
        "#Deklarasi Array Kosong untuk diisi dengan dataset\r\n",
        "images = []\r\n",
        "labels = [] "
      ],
      "outputs": [],
      "metadata": {
        "id": "MhakYHIDOWrG"
      }
    },
    {
      "cell_type": "code",
      "execution_count": null,
      "source": [
        "#Pengisian Array kosong yang tadi\r\n",
        "n_positive=0\r\n",
        "n_negative=0\r\n",
        "n_surprise=0\r\n",
        "for directory_path in glob.glob(\"smic-hs/train-test-split/*\"):\r\n",
        "    label = directory_path.split(\"\\\\\")[-1]\r\n",
        "    print(label)\r\n",
        "    for img_path in glob.glob(os.path.join(directory_path, \"*.bmp\")):\r\n",
        "        if label=='positive':\r\n",
        "            n_positive+=1\r\n",
        "        elif label=='negative':\r\n",
        "            n_negative+=1\r\n",
        "        elif label=='surprise':\r\n",
        "            n_surprise+=1\r\n",
        "        img = cv2.imread(img_path, cv2.IMREAD_COLOR)       \r\n",
        "        img = cv2.resize(img, (SIZE, SIZE))\r\n",
        "        img = cv2.cvtColor(img, cv2.COLOR_RGB2BGR)\r\n",
        "        images.append(img)\r\n",
        "        labels.append(label)\r\n",
        "\r\n",
        "print(f'\\nJumlah keselurahan gambar : {len(images)}')\r\n",
        "print(f'Jumlah gambar dengan class negative : {n_negative}')\r\n",
        "print(f'Jumlah gambar dengan class negative : {n_positive}')\r\n",
        "print(f'Jumlah gambar dengan class negative : {n_surprise}')"
      ],
      "outputs": [],
      "metadata": {
        "colab": {
          "base_uri": "https://localhost:8080/"
        },
        "id": "4zNqjy-BOcyq",
        "outputId": "e550d3ff-7ce5-4971-ed70-df1d281f0009"
      }
    },
    {
      "cell_type": "code",
      "execution_count": null,
      "source": [
        "#Mengubah array dengan nilai numpy\r\n",
        "images = np.array(images)\r\n",
        "labels = np.array(labels)"
      ],
      "outputs": [],
      "metadata": {
        "id": "cDuipYvtPQ_H"
      }
    },
    {
      "cell_type": "code",
      "execution_count": null,
      "source": [
        "#Randomize dataset\r\n",
        "permutation = np.random.permutation(len(images))\r\n",
        "images = images[permutation]\r\n",
        "labels = labels[permutation]"
      ],
      "outputs": [],
      "metadata": {}
    },
    {
      "cell_type": "code",
      "execution_count": null,
      "source": [
        "#split the data\r\n",
        "split75 = int(0.75*len(images))\r\n",
        "split80 = int(0.8*len(images))\r\n",
        "split90 = int(0.9*len(images))\r\n",
        "\r\n",
        "#split with 75% train and 25% test\r\n",
        "train_image_split75 = images[:split75]\r\n",
        "test_image_split75 = images[split75:]\r\n",
        "train_labels_split75 = labels[:split75]\r\n",
        "test_labels_split75 = labels[split75:]\r\n",
        "#split with 80% train and 20% test\r\n",
        "train_image_split80 = images[:split80]\r\n",
        "test_image_split80 = images[split80:]\r\n",
        "train_labels_split80 = labels[:split80]\r\n",
        "test_labels_split80 = labels[split80:]\r\n",
        "##split with 90% train and 10% test\r\n",
        "train_image_split90 = images[:split90]\r\n",
        "test_image_split90 = images[split90:]\r\n",
        "train_labels_split90 = labels[:split90]\r\n",
        "test_labels_split90 = labels[split90:]\r\n",
        "\r\n",
        "print(f'Jumlah gambar latih 75% adalah {len(train_image_split75)} dan gambar test 25% adalah {len(test_image_split75)}')\r\n",
        "print(f'Jumlah gambar latih 80% adalah {len(train_image_split80)} dan gambar test 20% adalah {len(test_image_split80)}')\r\n",
        "print(f'Jumlah gambar latih 90% adalah {len(train_image_split90)} dan gambar test 10% adalah {len(test_image_split90)}')"
      ],
      "outputs": [],
      "metadata": {}
    },
    {
      "cell_type": "code",
      "execution_count": null,
      "source": [
        "#Menggunakan label encoder untuk pemberian label\r\n",
        "from sklearn import preprocessing\r\n",
        "le = preprocessing.LabelEncoder()\r\n",
        "le.fit(test_labels_split75)\r\n",
        "test_labels_encoded75 = le.transform(test_labels_split75)\r\n",
        "le.fit(train_labels_split75)\r\n",
        "train_labels_encoded75 = le.transform(train_labels_split75)\r\n",
        "\r\n",
        "le.fit(test_labels_split80)\r\n",
        "test_labels_encoded80 = le.transform(test_labels_split80)\r\n",
        "le.fit(train_labels_split80)\r\n",
        "train_labels_encoded80 = le.transform(train_labels_split80)\r\n",
        "#\r\n",
        "le.fit(test_labels_split90)\r\n",
        "test_labels_encoded90 = le.transform(test_labels_split90)\r\n",
        "le.fit(train_labels_split90)\r\n",
        "train_labels_encoded90 = le.transform(train_labels_split90)\r\n",
        "\r\n",
        "#Split data\r\n",
        "x_train75, y_train75, x_test75, y_test75 = train_image_split75, train_labels_encoded75, test_image_split75, test_labels_encoded75\r\n",
        "x_train80, y_train80, x_test80, y_test80 = train_image_split80, train_labels_encoded80, test_image_split80, test_labels_encoded80\r\n",
        "x_train90, y_train90, x_test90, y_test90 = train_image_split90, train_labels_encoded90, test_image_split90, test_labels_encoded90"
      ],
      "outputs": [],
      "metadata": {
        "id": "3BMtlDe2PZou"
      }
    },
    {
      "cell_type": "code",
      "execution_count": null,
      "source": [
        "# Normalisasi Pixel\r\n",
        "x_train75, x_test75 = x_train75 / 255.0, x_test75 / 255.0\r\n",
        "\r\n",
        "#One hot encode y values for neural network. \r\n",
        "from tensorflow.keras.utils import to_categorical\r\n",
        "y_train_one_hot75 = to_categorical(y_train75,3)\r\n",
        "y_test_one_hot75 = to_categorical(y_test75,3)"
      ],
      "outputs": [],
      "metadata": {
        "id": "D5IYaAZNPe_a"
      }
    },
    {
      "cell_type": "code",
      "execution_count": null,
      "source": [
        "x_train80, x_test80 = x_train80 / 255.0, x_test80 / 255.0\r\n",
        "y_train_one_hot80 = to_categorical(y_train80,3)\r\n",
        "y_test_one_hot80 = to_categorical(y_test80,3)"
      ],
      "outputs": [],
      "metadata": {}
    },
    {
      "cell_type": "code",
      "execution_count": null,
      "source": [
        "x_train90, x_test90 = x_train90 / 255.0, x_test90 / 255.0\r\n",
        "y_train_one_hot90 = to_categorical(y_train90,3)\r\n",
        "y_test_one_hot90 = to_categorical(y_test90,3)"
      ],
      "outputs": [],
      "metadata": {}
    },
    {
      "cell_type": "code",
      "execution_count": null,
      "source": [
        "feature_extractor = Sequential()\r\n",
        "feature_extractor.add(Conv2D(input_shape=(SIZE,SIZE,3),filters=64,kernel_size=(3,3),padding=\"same\", activation=\"relu\"))\r\n",
        "feature_extractor.add(Conv2D(filters=64,kernel_size=(3,3),padding=\"same\", activation=\"relu\"))\r\n",
        "feature_extractor.add(MaxPool2D(pool_size=(2,2),strides=(2,2)))\r\n",
        "feature_extractor.add(Conv2D(filters=128, kernel_size=(3,3), padding=\"same\", activation=\"relu\"))\r\n",
        "feature_extractor.add(Conv2D(filters=128, kernel_size=(3,3), padding=\"same\", activation=\"relu\"))\r\n",
        "feature_extractor.add(MaxPool2D(pool_size=(2,2),strides=(2,2)))\r\n",
        "feature_extractor.add(Conv2D(filters=256, kernel_size=(3,3), padding=\"same\", activation=\"relu\"))\r\n",
        "feature_extractor.add(Conv2D(filters=256, kernel_size=(3,3), padding=\"same\", activation=\"relu\"))\r\n",
        "feature_extractor.add(Conv2D(filters=256, kernel_size=(3,3), padding=\"same\", activation=\"relu\"))\r\n",
        "feature_extractor.add(MaxPool2D(pool_size=(2,2),strides=(2,2)))\r\n",
        "feature_extractor.add(Conv2D(filters=512, kernel_size=(3,3), padding=\"same\", activation=\"relu\"))\r\n",
        "feature_extractor.add(Conv2D(filters=512, kernel_size=(3,3), padding=\"same\", activation=\"relu\"))\r\n",
        "feature_extractor.add(Conv2D(filters=512, kernel_size=(3,3), padding=\"same\", activation=\"relu\"))\r\n",
        "feature_extractor.add(MaxPool2D(pool_size=(2,2),strides=(2,2)))\r\n",
        "feature_extractor.add(Conv2D(filters=512, kernel_size=(3,3), padding=\"same\", activation=\"relu\"))\r\n",
        "feature_extractor.add(Conv2D(filters=512, kernel_size=(3,3), padding=\"same\", activation=\"relu\"))\r\n",
        "feature_extractor.add(Conv2D(filters=512, kernel_size=(3,3), padding=\"same\", activation=\"relu\"))\r\n",
        "feature_extractor.add(MaxPool2D(pool_size=(2,2),strides=(2,2)))\r\n",
        "feature_extractor.add(Flatten())\r\n",
        "\r\n",
        "feature_extractor.summary()"
      ],
      "outputs": [],
      "metadata": {
        "id": "tzcm0huYPiie"
      }
    },
    {
      "cell_type": "markdown",
      "source": [
        "# **Random Forest**"
      ],
      "metadata": {
        "id": "nDRhSck3P_0H"
      }
    },
    {
      "cell_type": "code",
      "execution_count": null,
      "source": [
        "#Input untuk random forest\r\n",
        "X_for_RF75 = feature_extractor.predict(x_train75) #This is out X input to RF"
      ],
      "outputs": [],
      "metadata": {
        "colab": {
          "base_uri": "https://localhost:8080/"
        },
        "id": "13CHlGDuP4Jg",
        "outputId": "2bc81d30-c636-4177-8c2c-608619b9e4a4"
      }
    },
    {
      "cell_type": "code",
      "execution_count": null,
      "source": [
        "X_for_RF80 = feature_extractor.predict(x_train80)"
      ],
      "outputs": [],
      "metadata": {}
    },
    {
      "cell_type": "code",
      "execution_count": null,
      "source": [
        "X_for_RF90 = feature_extractor.predict(x_train90)"
      ],
      "outputs": [],
      "metadata": {}
    },
    {
      "cell_type": "code",
      "execution_count": null,
      "source": [
        "#Membuat Model Random Forest\r\n",
        "from sklearn.ensemble import RandomForestClassifier\r\n",
        "RF_model = RandomForestClassifier(n_estimators = 50, random_state = 42)"
      ],
      "outputs": [],
      "metadata": {
        "id": "o-pFqPvhQHzj"
      }
    },
    {
      "cell_type": "code",
      "execution_count": null,
      "source": [
        "#Train data random forest\r\n",
        "RF_model.fit(X_for_RF75, y_train75) #For sklearn no one hot encoding"
      ],
      "outputs": [],
      "metadata": {
        "colab": {
          "base_uri": "https://localhost:8080/"
        },
        "id": "Edkan36ZQJp-",
        "outputId": "b0f64f2c-5715-4486-fca6-269eadffa62a"
      }
    },
    {
      "cell_type": "code",
      "execution_count": null,
      "source": [
        "X_test_feature = feature_extractor.predict(x_test75)\r\n",
        "#Prediksi dengan model random forest \r\n",
        "prediction_RF = RF_model.predict(X_test_feature)\r\n",
        "#Mengembalikan label yang sudah kita encode tadi \r\n",
        "prediction_RF = le.inverse_transform(prediction_RF)"
      ],
      "outputs": [],
      "metadata": {
        "id": "Jb19crVEQLmy"
      }
    },
    {
      "cell_type": "code",
      "execution_count": null,
      "source": [
        "#Akurasi 75% split\r\n",
        "from sklearn.metrics import accuracy_score\r\n",
        "print (f'Accuracy =  {accuracy_score(test_labels_split75, prediction_RF)*100}%')"
      ],
      "outputs": [],
      "metadata": {
        "colab": {
          "base_uri": "https://localhost:8080/"
        },
        "id": "9FT-BvZ0QQj8",
        "outputId": "1a44f23a-3c7f-4cae-8fcd-7f449dca8317"
      }
    },
    {
      "cell_type": "code",
      "execution_count": null,
      "source": [
        "#Laporan Klasifikasi 75%\r\n",
        "from sklearn.metrics import classification_report\r\n",
        "print(classification_report(test_labels_split75, prediction_RF))"
      ],
      "outputs": [],
      "metadata": {
        "colab": {
          "base_uri": "https://localhost:8080/"
        },
        "id": "zLfZ2S_YPxoQ",
        "outputId": "f66d92f4-ea0b-4a01-9225-f9db8ff88540"
      }
    },
    {
      "cell_type": "code",
      "execution_count": null,
      "source": [
        "#Confusion Matrix 75%\r\n",
        "from sklearn.metrics import confusion_matrix\r\n",
        "cm = confusion_matrix(test_labels_split75, prediction_RF)\r\n",
        "#print(cm)\r\n",
        "sns.heatmap(cm, annot=True)"
      ],
      "outputs": [],
      "metadata": {
        "colab": {
          "base_uri": "https://localhost:8080/",
          "height": 282
        },
        "id": "O6Oj89aOQSnR",
        "outputId": "c18d4899-9c7c-4b44-8e10-144733035928"
      }
    },
    {
      "cell_type": "code",
      "execution_count": null,
      "source": [
        "#Testing 75%\r\n",
        "n=1378 #Pilih sesuai keinginan. n merupakan gambar ke-n.\r\n",
        "img = x_test75[n]\r\n",
        "plt.imshow(img)\r\n",
        "input_img = np.expand_dims(img, axis=0)\r\n",
        "input_img_features=feature_extractor.predict(input_img)\r\n",
        "prediction_RF = RF_model.predict(input_img_features)[0] \r\n",
        "prediction_RF = le.inverse_transform([prediction_RF])\r\n",
        "print(\"The prediction for this image is: \", prediction_RF)\r\n",
        "print(\"The actual label for this image is: \", test_labels_split75[n])"
      ],
      "outputs": [],
      "metadata": {
        "colab": {
          "base_uri": "https://localhost:8080/",
          "height": 302
        },
        "id": "J4Rmf-1IQUOf",
        "outputId": "0bcffcc2-0a79-41e4-b026-ee6853b5ade7"
      }
    },
    {
      "cell_type": "code",
      "execution_count": null,
      "source": [
        "RF_model.fit(X_for_RF80, y_train80)"
      ],
      "outputs": [],
      "metadata": {}
    },
    {
      "cell_type": "code",
      "execution_count": null,
      "source": [
        "X_test_feature80 = feature_extractor.predict(x_test80)\r\n",
        "#Prediksi dengan model random forest \r\n",
        "prediction_RF80 = RF_model.predict(X_test_feature80)\r\n",
        "#Mengembalikan label yang sudah kita encode tadi \r\n",
        "prediction_RF80 = le.inverse_transform(prediction_RF80)"
      ],
      "outputs": [],
      "metadata": {}
    },
    {
      "cell_type": "code",
      "execution_count": null,
      "source": [
        "#Akurasi 80% split\r\n",
        "from sklearn.metrics import accuracy_score\r\n",
        "print (f'Accuracy =  {accuracy_score(test_labels_split80, prediction_RF80)*100}%')"
      ],
      "outputs": [],
      "metadata": {}
    },
    {
      "cell_type": "code",
      "execution_count": null,
      "source": [
        "RF_model.fit(X_for_RF90, y_train90)"
      ],
      "outputs": [],
      "metadata": {}
    },
    {
      "cell_type": "code",
      "execution_count": null,
      "source": [
        "#Laporan Klasifikasi 80%\r\n",
        "from sklearn.metrics import classification_report\r\n",
        "print(classification_report(test_labels_split80, prediction_RF80))"
      ],
      "outputs": [],
      "metadata": {}
    },
    {
      "cell_type": "code",
      "execution_count": null,
      "source": [
        "#Confusion Matrix 80%\r\n",
        "from sklearn.metrics import confusion_matrix\r\n",
        "cm = confusion_matrix(test_labels_split80, prediction_RF80)\r\n",
        "#print(cm)\r\n",
        "sns.heatmap(cm, annot=True)"
      ],
      "outputs": [],
      "metadata": {}
    },
    {
      "cell_type": "code",
      "execution_count": null,
      "source": [
        "#Testing 80%\r\n",
        "n=1102 #Pilih sesuai keinginan. n merupakan gambar ke-n.\r\n",
        "img80 = x_test80[n]\r\n",
        "plt.imshow(img80)\r\n",
        "input_img80 = np.expand_dims(img80, axis=0)\r\n",
        "input_img_features80=feature_extractor.predict(input_img80)\r\n",
        "prediction_RF80 = RF_model.predict(input_img_features80)[0] \r\n",
        "prediction_RF80 = le.inverse_transform([prediction_RF80])\r\n",
        "print(\"The prediction for this image is: \", prediction_RF80)\r\n",
        "print(\"The actual label for this image is: \", test_labels_split80[n])"
      ],
      "outputs": [],
      "metadata": {}
    },
    {
      "cell_type": "code",
      "execution_count": null,
      "source": [
        "X_test_feature90 = feature_extractor.predict(x_test90)\r\n",
        "#Prediksi dengan model random forest \r\n",
        "prediction_RF90 = RF_model.predict(X_test_feature90)\r\n",
        "#Mengembalikan label yang sudah kita encode tadi \r\n",
        "prediction_RF90 = le.inverse_transform(prediction_RF90)"
      ],
      "outputs": [],
      "metadata": {}
    },
    {
      "cell_type": "code",
      "execution_count": null,
      "source": [
        "#Akurasi 90% split\r\n",
        "from sklearn.metrics import accuracy_score\r\n",
        "print (f'Accuracy =  {accuracy_score(test_labels_split90, prediction_RF90)*100}%')"
      ],
      "outputs": [],
      "metadata": {}
    },
    {
      "cell_type": "code",
      "execution_count": null,
      "source": [
        "#Laporan Klasifikasi 90%\r\n",
        "from sklearn.metrics import classification_report\r\n",
        "print(classification_report(test_labels_split90, prediction_RF90))"
      ],
      "outputs": [],
      "metadata": {}
    },
    {
      "cell_type": "code",
      "execution_count": null,
      "source": [
        "#Confusion Matrix 90%\r\n",
        "from sklearn.metrics import confusion_matrix\r\n",
        "cm = confusion_matrix(test_labels_split90, prediction_RF90)\r\n",
        "#print(cm)\r\n",
        "sns.heatmap(cm, annot=True)"
      ],
      "outputs": [],
      "metadata": {}
    },
    {
      "cell_type": "code",
      "execution_count": null,
      "source": [
        "#Testing 90%\r\n",
        "n=400 #Pilih sesuai keinginan. n merupakan gambar ke-n.\r\n",
        "img90 = x_test90[n]\r\n",
        "plt.imshow(img90)\r\n",
        "input_img90 = np.expand_dims(img90, axis=0)\r\n",
        "input_img_features90=feature_extractor.predict(input_img90)\r\n",
        "prediction_RF90 = RF_model.predict(input_img_features90)[0] \r\n",
        "prediction_RF90 = le.inverse_transform([prediction_RF90])\r\n",
        "print(\"The prediction for this image is: \", prediction_RF90)\r\n",
        "print(\"The actual label for this image is: \", test_labels_split90[n])"
      ],
      "outputs": [],
      "metadata": {}
    },
    {
      "cell_type": "code",
      "execution_count": null,
      "source": [
        "#Simpan Model\r\n",
        "#import pickle\r\n",
        "\r\n",
        "#pickle.dump(RF_model, open('model.sav', 'wb'))"
      ],
      "outputs": [],
      "metadata": {
        "id": "MpALzRzEXOHc"
      }
    }
  ],
  "metadata": {
    "accelerator": "GPU",
    "colab": {
      "collapsed_sections": [],
      "name": "Copy of Testing.ipynb",
      "provenance": []
    },
    "interpreter": {
      "hash": "2b1e199023c67fad593ee32b32c7513a68ea1c263b22ae36bff6ce39c5a1c40d"
    },
    "kernelspec": {
      "display_name": "Python 3.8.5 64-bit ('base': conda)",
      "name": "python3"
    },
    "language_info": {
      "name": "python",
      "version": ""
    }
  },
  "nbformat": 4,
  "nbformat_minor": 2
}